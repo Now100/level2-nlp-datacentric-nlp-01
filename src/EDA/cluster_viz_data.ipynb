{
 "cells": [
  {
   "cell_type": "markdown",
   "metadata": {},
   "source": [
    "# 1. Dense Encoder로 문장 벡터화"
   ]
  },
  {
   "cell_type": "code",
   "execution_count": null,
   "metadata": {
    "vscode": {
     "languageId": "plaintext"
    }
   },
   "outputs": [],
   "source": [
    "from transformers import AutoTokenizer, AutoModel\n",
    "import torch\n",
    "\n",
    "# 사용할 모델과 토크나이저를 로드\n",
    "model_name = \"bert-base-multilingual-cased\"  # 다국어 BERT 모델\n",
    "tokenizer = AutoTokenizer.from_pretrained(model_name)\n",
    "model = AutoModel.from_pretrained(model_name)\n",
    "\n",
    "# 문장 벡터 생성 함수\n",
    "def encode_sentences(sentences):\n",
    "    # 토큰화 및 텐서로 변환\n",
    "    inputs = tokenizer(sentences, padding=True, truncation=True, return_tensors='pt')\n",
    "    with torch.no_grad():  # 그래디언트 계산 비활성화\n",
    "        outputs = model(**inputs)\n",
    "    return outputs.last_hidden_state[:, 0, :].numpy()  # [CLS] 토큰의 출력을 사용\n",
    "\n",
    "# text 컬럼으로부터 문장 벡터화\n",
    "sentence_vectors = encode_sentences(cleaned_df['text'].tolist())\n"
   ]
  },
  {
   "cell_type": "markdown",
   "metadata": {},
   "source": [
    "# 2. t-SNE를 이용한 시각화"
   ]
  },
  {
   "cell_type": "code",
   "execution_count": null,
   "metadata": {
    "vscode": {
     "languageId": "plaintext"
    }
   },
   "outputs": [],
   "source": [
    "from sklearn.manifold import TSNE\n",
    "import matplotlib.pyplot as plt\n",
    "\n",
    "# t-SNE를 사용하여 차원 축소\n",
    "tsne = TSNE(n_components=2, perplexity=30, random_state=42)\n",
    "tsne_results = tsne.fit_transform(sentence_vectors)\n",
    "\n",
    "# t-SNE 결과 시각화\n",
    "plt.figure(figsize=(12, 8))\n",
    "plt.scatter(tsne_results[:, 0], tsne_results[:, 1], c=cleaned_df['cluster'], cmap='viridis', alpha=0.5)\n",
    "plt.colorbar(label='Cluster')\n",
    "plt.title('t-SNE Visualization of Sentence Clusters')\n",
    "plt.xlabel('t-SNE Component 1')\n",
    "plt.ylabel('t-SNE Component 2')\n",
    "plt.grid()\n",
    "plt.show()\n"
   ]
  },
  {
   "cell_type": "markdown",
   "metadata": {},
   "source": [
    "# 3. UMAP을 이용한 시각화 (선택 사항)"
   ]
  },
  {
   "cell_type": "code",
   "execution_count": null,
   "metadata": {
    "vscode": {
     "languageId": "plaintext"
    }
   },
   "outputs": [],
   "source": [
    "import umap\n",
    "\n",
    "# UMAP을 사용하여 차원 축소\n",
    "umap_model = umap.UMAP(n_neighbors=15, n_components=2, metric='euclidean')\n",
    "umap_results = umap_model.fit_transform(sentence_vectors)\n",
    "\n",
    "# UMAP 결과 시각화\n",
    "plt.figure(figsize=(12, 8))\n",
    "plt.scatter(umap_results[:, 0], umap_results[:, 1], c=cleaned_df['cluster'], cmap='viridis', alpha=0.5)\n",
    "plt.colorbar(label='Cluster')\n",
    "plt.title('UMAP Visualization of Sentence Clusters')\n",
    "plt.xlabel('UMAP Component 1')\n",
    "plt.ylabel('UMAP Component 2')\n",
    "plt.grid()\n",
    "plt.show()\n"
   ]
  }
 ],
 "metadata": {
  "language_info": {
   "name": "python"
  }
 },
 "nbformat": 4,
 "nbformat_minor": 2
}
