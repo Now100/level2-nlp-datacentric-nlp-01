{
 "cells": [
  {
   "cell_type": "markdown",
   "metadata": {},
   "source": [
    "# 1. 라벨 분포 시각화"
   ]
  },
  {
   "cell_type": "code",
   "execution_count": null,
   "metadata": {
    "vscode": {
     "languageId": "plaintext"
    }
   },
   "outputs": [],
   "source": [
    "import pandas as pd\n",
    "import matplotlib.pyplot as plt\n",
    "import seaborn as sns\n",
    "\n",
    "# 데이터프레임 불러오기 (이름은 cleaned_df로 가정)\n",
    "# cleaned_df = pd.read_csv('cleaned_train_2.csv')\n",
    "\n",
    "# 라벨 분포 시각화\n",
    "plt.figure(figsize=(10, 6))\n",
    "sns.countplot(data=cleaned_df, x='target', palette='viridis')\n",
    "plt.title('Label Distribution')\n",
    "plt.xlabel('Target Labels')\n",
    "plt.ylabel('Count')\n",
    "plt.xticks(rotation=45)\n",
    "plt.grid(axis='y')\n",
    "plt.show()\n"
   ]
  },
  {
   "cell_type": "markdown",
   "metadata": {},
   "source": [
    "# 2. original과 text 간의 변동 시각화 (길이)"
   ]
  },
  {
   "cell_type": "code",
   "execution_count": null,
   "metadata": {
    "vscode": {
     "languageId": "plaintext"
    }
   },
   "outputs": [],
   "source": [
    "# 텍스트 길이 계산\n",
    "cleaned_df['original_length'] = cleaned_df['original'].apply(len)\n",
    "cleaned_df['text_length'] = cleaned_df['text'].apply(len)\n",
    "\n",
    "# 길이 변화 시각화\n",
    "plt.figure(figsize=(12, 6))\n",
    "sns.histplot(cleaned_df[['original_length', 'text_length']], kde=True, bins=30)\n",
    "plt.title('Length Comparison: Original vs. Text')\n",
    "plt.xlabel('Length')\n",
    "plt.ylabel('Density')\n",
    "plt.legend(['Original Length', 'Text Length'])\n",
    "plt.grid(axis='y')\n",
    "plt.show()\n"
   ]
  },
  {
   "cell_type": "markdown",
   "metadata": {},
   "source": [
    "# 3. 문장을 벡터 스페이스로 옮기고 군집화\n"
   ]
  },
  {
   "cell_type": "code",
   "execution_count": null,
   "metadata": {
    "vscode": {
     "languageId": "plaintext"
    }
   },
   "outputs": [],
   "source": [
    "from sklearn.feature_extraction.text import TfidfVectorizer\n",
    "from sklearn.cluster import KMeans\n",
    "\n",
    "# TF-IDF 벡터화\n",
    "vectorizer = TfidfVectorizer()\n",
    "X = vectorizer.fit_transform(cleaned_df['text'])\n",
    "\n",
    "# KMeans 클러스터링\n",
    "num_clusters = 5  # 클러스터 수 설정\n",
    "kmeans = KMeans(n_clusters=num_clusters, random_state=0)\n",
    "cleaned_df['cluster'] = kmeans.fit_predict(X)\n",
    "\n",
    "# 군집 시각화\n",
    "plt.figure(figsize=(10, 6))\n",
    "sns.countplot(data=cleaned_df, x='cluster', palette='magma')\n",
    "plt.title('Cluster Distribution')\n",
    "plt.xlabel('Clusters')\n",
    "plt.ylabel('Count')\n",
    "plt.grid(axis='y')\n",
    "plt.show()\n"
   ]
  },
  {
   "cell_type": "markdown",
   "metadata": {},
   "source": [
    "# 4. 이상치 탐지 및 필터링"
   ]
  },
  {
   "cell_type": "code",
   "execution_count": null,
   "metadata": {
    "vscode": {
     "languageId": "plaintext"
    }
   },
   "outputs": [],
   "source": [
    "# IQR을 사용한 이상치 탐지\n",
    "Q1 = cleaned_df['text_length'].quantile(0.25)\n",
    "Q3 = cleaned_df['text_length'].quantile(0.75)\n",
    "IQR = Q3 - Q1\n",
    "\n",
    "# 이상치 경계 설정\n",
    "lower_bound = Q1 - 1.5 * IQR\n",
    "upper_bound = Q3 + 1.5 * IQR\n",
    "\n",
    "# 이상치 필터링\n",
    "filtered_df = cleaned_df[(cleaned_df['text_length'] >= lower_bound) & (cleaned_df['text_length'] <= upper_bound)]\n",
    "\n",
    "print(f\"Original DataFrame size: {cleaned_df.shape}\")\n",
    "print(f\"Filtered DataFrame size: {filtered_df.shape}\")\n"
   ]
  }
 ],
 "metadata": {
  "language_info": {
   "name": "python"
  }
 },
 "nbformat": 4,
 "nbformat_minor": 2
}
